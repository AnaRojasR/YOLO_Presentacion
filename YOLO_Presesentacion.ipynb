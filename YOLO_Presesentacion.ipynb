{
  "nbformat": 4,
  "nbformat_minor": 0,
  "metadata": {
    "colab": {
      "name": "YOLO Presesentacion.ipynb",
      "provenance": [],
      "include_colab_link": true
    },
    "kernelspec": {
      "name": "python3",
      "display_name": "Python 3"
    },
    "accelerator": "GPU"
  },
  "cells": [
    {
      "cell_type": "markdown",
      "metadata": {
        "id": "view-in-github",
        "colab_type": "text"
      },
      "source": [
        "<a href=\"https://colab.research.google.com/github/AnaRojasR/YOLO_Presentacion/blob/master/YOLO_Presesentacion.ipynb\" target=\"_parent\"><img src=\"https://colab.research.google.com/assets/colab-badge.svg\" alt=\"Open In Colab\"/></a>"
      ]
    },
    {
      "cell_type": "code",
      "metadata": {
        "id": "_DRSfPexPYhT",
        "colab_type": "code",
        "colab": {}
      },
      "source": [
        "# This cell imports the drive library and mounts your Google Drive as a VM local drive. You can access to your Drive files \n",
        "# using this path \"/content/gdrive/My Drive/\"\n",
        "\n",
        "from google.colab import drive\n",
        "drive.mount('/content/gdrive')"
      ],
      "execution_count": null,
      "outputs": []
    },
    {
      "cell_type": "code",
      "metadata": {
        "id": "2kHfegCAQJNT",
        "colab_type": "code",
        "colab": {}
      },
      "source": [
        "# Not Necessary cell\n",
        "# List the content of your local computer folder \n",
        "!ls -la \"/content/gdrive/My Drive/darknet\""
      ],
      "execution_count": null,
      "outputs": []
    },
    {
      "cell_type": "code",
      "metadata": {
        "id": "vg-XzgrvQXU1",
        "colab_type": "code",
        "colab": {}
      },
      "source": [
        "!sudo apt-get install tree"
      ],
      "execution_count": null,
      "outputs": []
    },
    {
      "cell_type": "code",
      "metadata": {
        "id": "sfHMAOdwQjp5",
        "colab_type": "code",
        "colab": {}
      },
      "source": [
        "!tree /content/gdrive/My\\ Drive/darknet/cuDNN"
      ],
      "execution_count": null,
      "outputs": []
    },
    {
      "cell_type": "code",
      "metadata": {
        "id": "0-O5BZltREeX",
        "colab_type": "code",
        "colab": {}
      },
      "source": [
        "# This cell can be commented once you checked the current CUDA version\n",
        "# CUDA: Let's check that Nvidia CUDA is already pre-installed and which version is it. In some time from now maybe you \n",
        "!/usr/local/cuda/bin/nvcc --version"
      ],
      "execution_count": null,
      "outputs": []
    },
    {
      "cell_type": "code",
      "metadata": {
        "id": "3XUm5lrtRZeq",
        "colab_type": "code",
        "colab": {}
      },
      "source": [
        "# We're unzipping the cuDNN files from your Drive folder directly to the VM CUDA folders\n",
        "!tree /content/gdrive/My\\ Drive/darknet/darknet-master\n",
        "!ls -la\n",
        "!tar -xzvf /content/gdrive/My\\ Drive/darknet/cuDNN/cudnn-10.0-linux-x64-v7.5.0.56.tgz.tgz -C /usr/local\n",
        "\n",
        "\n"
      ],
      "execution_count": null,
      "outputs": []
    },
    {
      "cell_type": "code",
      "metadata": {
        "id": "I1IFKvSMsQBa",
        "colab_type": "code",
        "colab": {}
      },
      "source": [
        "!chmod a+r /usr/local/cuda/include/cudnn.h\n",
        "\n"
      ],
      "execution_count": null,
      "outputs": []
    },
    {
      "cell_type": "code",
      "metadata": {
        "id": "RpTzKsmisZxl",
        "colab_type": "code",
        "colab": {}
      },
      "source": [
        "# Now we check the version we already installed. Can comment this line on future runs\n",
        "!cat /usr/local/cuda/include/cudnn.h | grep CUDNN_MAJOR -A 2"
      ],
      "execution_count": null,
      "outputs": []
    },
    {
      "cell_type": "code",
      "metadata": {
        "id": "Cly2qyJ6shZ6",
        "colab_type": "code",
        "colab": {}
      },
      "source": [
        "#Compile Darknet\n",
        "%cd /content/gdrive/My\\ Drive/darknet/darknet-master\n",
        "\n",
        "!ls\n",
        "\n",
        "#Compile Darknet\n",
        "!make\n",
        "\n",
        "#Copies the Darknet compiled version to Google drive\n",
        "!cp ./darknet /content/gdrive/My\\ Drive/darknet/darknet-master\n",
        "\n",
        "!ls\n",
        "!chmod +x ./darknet"
      ],
      "execution_count": null,
      "outputs": []
    },
    {
      "cell_type": "code",
      "metadata": {
        "id": "UOLPjgFX83RJ",
        "colab_type": "code",
        "colab": {}
      },
      "source": [
        "#%cd /content/gdrive/My\\ Drive/darknet/darknet-master/bin/darknet\n",
        "!ls\n",
        "!chmod +x ./darknet"
      ],
      "execution_count": null,
      "outputs": []
    },
    {
      "cell_type": "code",
      "metadata": {
        "id": "foFsXs6A9ifT",
        "colab_type": "code",
        "colab": {}
      },
      "source": [
        "# Not necessary cell\n",
        "# Get yolov3 weights\n",
        "!wget https://pjreddie.com/media/files/yolov3.weights"
      ],
      "execution_count": null,
      "outputs": []
    },
    {
      "cell_type": "code",
      "metadata": {
        "id": "cjWflVSx9_gR",
        "colab_type": "code",
        "colab": {}
      },
      "source": [
        "\n",
        "#download files\n",
        "##def imShow(path):\n",
        "##  import cv2\n",
        "##  import matplotlib.pyplot as plt\n",
        "##  %matplotlib inline\n",
        "\n",
        "##  image = cv2.imread(path)\n",
        "##  height, width = image.shape[:2]\n",
        "##  resized_image = cv2.resize(image,(3*width, 3*height), interpolation = cv2.INTER_CUBIC)\n",
        "\n",
        "##  fig = plt.gcf()\n",
        "##  fig.set_size_inches(18, 10)\n",
        "##  plt.axis(\"off\")\n",
        "  #plt.rcParams['figure.figsize'] = [10, 5]\n",
        "##  plt.imshow(cv2.cvtColor(resized_image, cv2.COLOR_BGR2RGB))\n",
        "##  plt.show()\n",
        "  \n",
        "  \n",
        "##def upload():\n",
        "##  from google.colab import files\n",
        "##  uploaded = files.upload() \n",
        "##  for name, data in uploaded.items():\n",
        "##    with open(name, 'wb') as f:\n",
        "##      f.write(data)\n",
        "##      print ('saved file', name)\n",
        "##def download(path):\n",
        "##  from google.colab import files\n",
        "##  files.download(path)\n",
        "\n",
        "  # Not necessary cell\n",
        "# Execute darknet using YOLOv3 model with pre-trained weights to detect objects on 'person.jpg'\n",
        "!./darknet detect cfg/yolov3.cfg yolov3.weights data/dog.jpg -dont-show\n",
        "\n",
        "# Show the result using the helper imgShow()\n",
        "\n",
        "imShow('predictions.jpg')"
      ],
      "execution_count": null,
      "outputs": []
    },
    {
      "cell_type": "code",
      "metadata": {
        "id": "eXe30lbz2wKT",
        "colab_type": "code",
        "colab": {}
      },
      "source": [
        "from IPython.display import display, Javascript\n",
        "from google.colab.output import eval_js\n",
        "from base64 import b64decode\n",
        "\n",
        "def take_photo(filename='photo.jpg', quality=0.8):\n",
        "  js = Javascript('''\n",
        "    async function takePhoto(quality) {\n",
        "      const div = document.createElement('div');\n",
        "      const capture = document.createElement('button');\n",
        "      capture.textContent = 'Capture';\n",
        "      div.appendChild(capture);\n",
        "\n",
        "      const video = document.createElement('video');\n",
        "      video.style.display = 'block';\n",
        "      const stream = await navigator.mediaDevices.getUserMedia({video: true});\n",
        "\n",
        "      document.body.appendChild(div);\n",
        "      div.appendChild(video);\n",
        "      video.srcObject = stream;\n",
        "      await video.play();\n",
        "\n",
        "      // Resize the output to fit the video element.\n",
        "      google.colab.output.setIframeHeight(document.documentElement.scrollHeight, true);\n",
        "\n",
        "      // Wait for Capture to be clicked.\n",
        "      await new Promise((resolve) => capture.onclick = resolve);\n",
        "\n",
        "      const canvas = document.createElement('canvas');\n",
        "      canvas.width = video.videoWidth;\n",
        "      canvas.height = video.videoHeight;\n",
        "      canvas.getContext('2d').drawImage(video, 0, 0);\n",
        "      stream.getVideoTracks()[0].stop();\n",
        "      div.remove();\n",
        "      return canvas.toDataURL('image/jpeg', quality);\n",
        "    }\n",
        "    ''')\n",
        "  display(js)\n",
        "  data = eval_js('takePhoto({})'.format(quality))\n",
        "  binary = b64decode(data.split(',')[1])\n",
        "  with open(filename, 'wb') as f:\n",
        "    f.write(binary)\n",
        "  return filename"
      ],
      "execution_count": null,
      "outputs": []
    },
    {
      "cell_type": "code",
      "metadata": {
        "id": "EB7vKmKiCoqd",
        "colab_type": "code",
        "colab": {}
      },
      "source": [
        "from IPython.display import Image\n",
        "try:\n",
        "  filename = take_photo()\n",
        "  print('Saved to {}'.format(filename))\n",
        "  \n",
        "  # Show the image which was just taken.\n",
        "  display(Image(filename))\n",
        "except Exception as err:\n",
        "  # Errors will be thrown if the user does not have a webcam or if they do not\n",
        "  # grant the page permission to access it.\n",
        "  print(str(err))\n",
        "\n",
        "! cd \n",
        "#! ./darknet detector  cfg/yolov3.cfg yolov3.weights http://192.168.0.13:4747/video -i 0\n",
        "!./darknet detect cfg/yolov3.cfg yolov3.weights photo.jpg\n",
        "\n",
        "# Show the result using the helper imgShow()\n",
        "\n",
        "imShow('predictions.jpg')\n",
        "\n",
        "\n",
        "\n"
      ],
      "execution_count": null,
      "outputs": []
    },
    {
      "cell_type": "code",
      "metadata": {
        "id": "g8ou7o0-OGKY",
        "colab_type": "code",
        "colab": {}
      },
      "source": [
        "!apt-get -qq install -y libsm6 libxext6 && pip install -q -U opencv-python\n",
        "import cv2\n",
        "\n"
      ],
      "execution_count": null,
      "outputs": []
    },
    {
      "cell_type": "code",
      "metadata": {
        "id": "hqv8OkqYHqSW",
        "colab_type": "code",
        "colab": {}
      },
      "source": [
        "#!tree /content/gdrive/My\\ Drive/darknet/darknet-master\n",
        "#!ls -la\n",
        "#!mkdir /usr/local/opencv3.0\n",
        "#%cd /content/gdrive/My\\ Drive/darknet/\n",
        "#!unzip /content/gdrive/My\\ Drive/darknet/opencv-4.1.2 \n",
        "#!ls\n",
        "#%rm -r /usr/local/opencv3.0/opencv-4.1.2\n",
        "#!cat  \n",
        "\n",
        "%cp  -r /content/gdrive/My\\ Drive/opencv_3.0 /usr/local\n",
        "#!ls\n",
        "\n",
        "%cd /usr/local\n",
        "#!ls\n",
        "#! ./darknet detector demo cfg/coco.data cfg/yolov3.cfg yolov3.weights\n",
        "\n",
        "!ls\n",
        "! ./darknet detector demo cfg/coco.data cfg/yolov3.cfg yolov3.weights test.mp4\n"
      ],
      "execution_count": null,
      "outputs": []
    },
    {
      "cell_type": "code",
      "metadata": {
        "id": "iJSVrTJALqDL",
        "colab_type": "code",
        "colab": {}
      },
      "source": [
        "%cd /content/gdrive/My\\ Drive/darknet/darknet-master\n",
        "!ls\n",
        "! ./darknet detector demo cfg/coco.data cfg/yolov3.cfg yolov3.weights test.mp4"
      ],
      "execution_count": null,
      "outputs": []
    }
  ]
}